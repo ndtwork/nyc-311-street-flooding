{
 "cells": [
  {
   "cell_type": "markdown",
   "metadata": {},
   "source": [
    "# Analyzing NYC's 311 Street Flooding Complaints from 2010 to 2020\n",
    "## Mapping Analysis\n",
    "\n",
    "Author: Mark Bauer"
   ]
  },
  {
   "cell_type": "markdown",
   "metadata": {},
   "source": [
    "# Goal\n",
    "In this notebook, we analyze NYC's 311 Street Flooding Complaints data from 2010 to 2020. Specifically, I attempt to answer the following questions:\n",
    "\n",
    "- What is the distribution of street flooding complaints by neighborhood?\n",
    "- What neighborhood has the most complaints?\n",
    "\n",
    "# Main Python Libraries:\n",
    "[pandas](https://pandas.pydata.org/) is a fast, powerful, flexible and easy to use open source data analysis and manipulation tool, built on top of the Python programming language.\n",
    "\n",
    "[GeoPandas](https://geopandas.org/index.html) is an open source project to make working with geospatial data in python easier. GeoPandas extends the datatypes used by pandas to allow spatial operations on geometric types. Geometric operations are performed by shapely. Geopandas further depends on fiona for file access and descartes and matplotlib for plotting.\n",
    "\n",
    "[Matplotlib](https://matplotlib.org/3.1.1/index.html#) is a Python 2D plotting library which produces publication quality figures in a variety of hardcopy formats and interactive environments across platforms.\n",
    "\n",
    "[Seaborn](https://seaborn.pydata.org/index.html) is a Python data visualization library based on matplotlib. It provides a high-level interface for drawing attractive and informative statistical graphics."
   ]
  },
  {
   "cell_type": "markdown",
   "metadata": {},
   "source": [
    "# Datasets\n",
    "\n",
    "## 311 Service Requests from 2010 to Present  \n",
    "Website: https://data.cityofnewyork.us/Social-Services/311-Service-Requests-from-2010-to-Present/erm2-nwe9\n",
    "\n",
    "311's data dictionary can be found in the data folder. \n",
    "\n",
    "\n",
    "\n",
    "![311](images/nyc-311-screenshot.png)\n",
    "\n",
    "## Neighborhood Tabulation Areas (NTA)  \n",
    "Website: https://data.cityofnewyork.us/City-Government/Neighborhood-Tabulation-Areas-NTA-/cpf4-rkhq\n",
    "\n",
    "![nta](images/nyc-nta-screenshot.png)"
   ]
  },
  {
   "cell_type": "markdown",
   "metadata": {},
   "source": [
    "# Importing Libraries"
   ]
  },
  {
   "cell_type": "code",
   "metadata": {
    "ExecuteTime": {
     "end_time": "2024-12-03T06:37:32.552307Z",
     "start_time": "2024-12-03T06:37:32.083491Z"
    }
   },
   "source": [
    "import os\n",
    "import pandas as pd\n",
    "import numpy as np\n",
    "import seaborn as sns\n",
    "import geopandas as gpd\n",
    "import matplotlib.pyplot as plt\n",
    "import matplotlib as mpl\n",
    "import matplotlib.dates as mdates\n",
    "from mpl_toolkits.axes_grid1 import make_axes_locatable\n",
    "\n",
    "plt.rcParams['savefig.facecolor'] = 'white'\n",
    "%matplotlib inline"
   ],
   "outputs": [],
   "execution_count": 1
  },
  {
   "cell_type": "markdown",
   "metadata": {},
   "source": [
    "Printing versions of Python modules and packages with **watermark** - the IPython magic extension.  \n",
    "Documention for installing watermark: https://github.com/rasbt/watermark"
   ]
  },
  {
   "cell_type": "code",
   "metadata": {
    "ExecuteTime": {
     "end_time": "2024-12-03T06:37:33.865173Z",
     "start_time": "2024-12-03T06:37:32.571619Z"
    }
   },
   "source": [
    "%reload_ext watermark\n",
    "%watermark -v -p numpy,pandas,geopandas,geoplot,fiona,matplotlib,seaborn"
   ],
   "outputs": [
    {
     "name": "stdout",
     "output_type": "stream",
     "text": [
      "Python implementation: CPython\n",
      "Python version       : 3.9.1\n",
      "IPython version      : 7.19.0\n",
      "\n",
      "numpy     : 1.19.5\n",
      "pandas    : 1.2.0\n",
      "geopandas : 0.8.1\n",
      "geoplot   : 0.4.1\n",
      "fiona     : 1.8.18\n",
      "matplotlib: 3.3.2\n",
      "seaborn   : 0.11.1\n",
      "\n"
     ]
    }
   ],
   "execution_count": 2
  },
  {
   "cell_type": "markdown",
   "metadata": {},
   "source": [
    "# Reading In Data"
   ]
  },
  {
   "cell_type": "markdown",
   "metadata": {},
   "source": [
    "## NYC 311 Street Flooding Complaints"
   ]
  },
  {
   "cell_type": "code",
   "metadata": {
    "ExecuteTime": {
     "end_time": "2024-12-03T06:37:34.514240Z",
     "start_time": "2024-12-03T06:37:34.435510Z"
    }
   },
   "source": [
    "# list items in data folder\n",
    "%ls data/"
   ],
   "outputs": [
    {
     "name": "stderr",
     "output_type": "stream",
     "text": [
      "Invalid switch - \"\".\n"
     ]
    }
   ],
   "execution_count": 3
  },
  {
   "cell_type": "code",
   "metadata": {
    "ExecuteTime": {
     "end_time": "2024-12-03T06:37:34.960230Z",
     "start_time": "2024-12-03T06:37:34.577187Z"
    }
   },
   "source": [
    "# read data as a dataframe\n",
    "df = pd.read_csv('data/street-flooding-complaints.csv', low_memory=False)\n",
    "\n",
    "# previewing first five rows in data\n",
    "print('shape of data: {}'.format(df.shape))\n",
    "df.head()"
   ],
   "outputs": [
    {
     "name": "stdout",
     "output_type": "stream",
     "text": [
      "shape of data: (24817, 27)\n"
     ]
    },
    {
     "data": {
      "text/plain": [
       "   unique_key             created_date              closed_date agency  \\\n",
       "0    45283755  2019-12-31T22:42:00.000  2020-01-07T11:07:00.000    DEP   \n",
       "1    45283863  2019-12-31T17:34:00.000  2020-01-01T15:45:00.000    DEP   \n",
       "2    45279400  2019-12-31T16:11:00.000  2020-01-08T10:10:00.000    DEP   \n",
       "3    45277773  2019-12-31T15:42:00.000  2020-01-01T05:25:00.000    DEP   \n",
       "4    45282532  2019-12-31T12:18:00.000  2019-12-31T14:15:00.000    DEP   \n",
       "\n",
       "                              agency_name complaint_type  \\\n",
       "0  Department of Environmental Protection          Sewer   \n",
       "1  Department of Environmental Protection          Sewer   \n",
       "2  Department of Environmental Protection          Sewer   \n",
       "3  Department of Environmental Protection          Sewer   \n",
       "4  Department of Environmental Protection          Sewer   \n",
       "\n",
       "             descriptor  incident_zip    incident_address     street_name  \\\n",
       "0  Street Flooding (SJ)       10306.0  131 GRIMSBY STREET  GRIMSBY STREET   \n",
       "1  Street Flooding (SJ)       10312.0                 NaN             NaN   \n",
       "2  Street Flooding (SJ)       10305.0   753 QUINCY AVENUE   QUINCY AVENUE   \n",
       "3  Street Flooding (SJ)       11379.0     61-21 70 STREET       70 STREET   \n",
       "4  Street Flooding (SJ)       11375.0                 NaN             NaN   \n",
       "\n",
       "   ...   community_board           bbl        borough  \\\n",
       "0  ...  02 STATEN ISLAND  5.037950e+09  STATEN ISLAND   \n",
       "1  ...  03 STATEN ISLAND           NaN  STATEN ISLAND   \n",
       "2  ...  02 STATEN ISLAND  5.038260e+09  STATEN ISLAND   \n",
       "3  ...         05 QUEENS  4.029270e+09         QUEENS   \n",
       "4  ...         06 QUEENS           NaN         QUEENS   \n",
       "\n",
       "  x_coordinate_state_plane y_coordinate_state_plane open_data_channel_type  \\\n",
       "0                 958363.0                 148793.0                 ONLINE   \n",
       "1                 937878.0                 143517.0                  PHONE   \n",
       "2                 960864.0                 149333.0                  PHONE   \n",
       "3                1015410.0                 201741.0                  PHONE   \n",
       "4                1027498.0                 202160.0                  PHONE   \n",
       "\n",
       "    park_borough   latitude  longitude  \\\n",
       "0  STATEN ISLAND  40.575041 -74.093186   \n",
       "1  STATEN ISLAND  40.560476 -74.166889   \n",
       "2  STATEN ISLAND  40.576530 -74.084185   \n",
       "3         QUEENS  40.720354 -73.887589   \n",
       "4         QUEENS  40.721454 -73.843978   \n",
       "\n",
       "                                            location  \n",
       "0  {'latitude': '40.57504060779978', 'longitude':...  \n",
       "1  {'latitude': '40.56047555908232', 'longitude':...  \n",
       "2  {'latitude': '40.576529751013474', 'longitude'...  \n",
       "3  {'latitude': '40.72035428730757', 'longitude':...  \n",
       "4  {'latitude': '40.721453503515995', 'longitude'...  \n",
       "\n",
       "[5 rows x 27 columns]"
      ],
      "text/html": [
       "<div>\n",
       "<style scoped>\n",
       "    .dataframe tbody tr th:only-of-type {\n",
       "        vertical-align: middle;\n",
       "    }\n",
       "\n",
       "    .dataframe tbody tr th {\n",
       "        vertical-align: top;\n",
       "    }\n",
       "\n",
       "    .dataframe thead th {\n",
       "        text-align: right;\n",
       "    }\n",
       "</style>\n",
       "<table border=\"1\" class=\"dataframe\">\n",
       "  <thead>\n",
       "    <tr style=\"text-align: right;\">\n",
       "      <th></th>\n",
       "      <th>unique_key</th>\n",
       "      <th>created_date</th>\n",
       "      <th>closed_date</th>\n",
       "      <th>agency</th>\n",
       "      <th>agency_name</th>\n",
       "      <th>complaint_type</th>\n",
       "      <th>descriptor</th>\n",
       "      <th>incident_zip</th>\n",
       "      <th>incident_address</th>\n",
       "      <th>street_name</th>\n",
       "      <th>...</th>\n",
       "      <th>community_board</th>\n",
       "      <th>bbl</th>\n",
       "      <th>borough</th>\n",
       "      <th>x_coordinate_state_plane</th>\n",
       "      <th>y_coordinate_state_plane</th>\n",
       "      <th>open_data_channel_type</th>\n",
       "      <th>park_borough</th>\n",
       "      <th>latitude</th>\n",
       "      <th>longitude</th>\n",
       "      <th>location</th>\n",
       "    </tr>\n",
       "  </thead>\n",
       "  <tbody>\n",
       "    <tr>\n",
       "      <th>0</th>\n",
       "      <td>45283755</td>\n",
       "      <td>2019-12-31T22:42:00.000</td>\n",
       "      <td>2020-01-07T11:07:00.000</td>\n",
       "      <td>DEP</td>\n",
       "      <td>Department of Environmental Protection</td>\n",
       "      <td>Sewer</td>\n",
       "      <td>Street Flooding (SJ)</td>\n",
       "      <td>10306.0</td>\n",
       "      <td>131 GRIMSBY STREET</td>\n",
       "      <td>GRIMSBY STREET</td>\n",
       "      <td>...</td>\n",
       "      <td>02 STATEN ISLAND</td>\n",
       "      <td>5.037950e+09</td>\n",
       "      <td>STATEN ISLAND</td>\n",
       "      <td>958363.0</td>\n",
       "      <td>148793.0</td>\n",
       "      <td>ONLINE</td>\n",
       "      <td>STATEN ISLAND</td>\n",
       "      <td>40.575041</td>\n",
       "      <td>-74.093186</td>\n",
       "      <td>{'latitude': '40.57504060779978', 'longitude':...</td>\n",
       "    </tr>\n",
       "    <tr>\n",
       "      <th>1</th>\n",
       "      <td>45283863</td>\n",
       "      <td>2019-12-31T17:34:00.000</td>\n",
       "      <td>2020-01-01T15:45:00.000</td>\n",
       "      <td>DEP</td>\n",
       "      <td>Department of Environmental Protection</td>\n",
       "      <td>Sewer</td>\n",
       "      <td>Street Flooding (SJ)</td>\n",
       "      <td>10312.0</td>\n",
       "      <td>NaN</td>\n",
       "      <td>NaN</td>\n",
       "      <td>...</td>\n",
       "      <td>03 STATEN ISLAND</td>\n",
       "      <td>NaN</td>\n",
       "      <td>STATEN ISLAND</td>\n",
       "      <td>937878.0</td>\n",
       "      <td>143517.0</td>\n",
       "      <td>PHONE</td>\n",
       "      <td>STATEN ISLAND</td>\n",
       "      <td>40.560476</td>\n",
       "      <td>-74.166889</td>\n",
       "      <td>{'latitude': '40.56047555908232', 'longitude':...</td>\n",
       "    </tr>\n",
       "    <tr>\n",
       "      <th>2</th>\n",
       "      <td>45279400</td>\n",
       "      <td>2019-12-31T16:11:00.000</td>\n",
       "      <td>2020-01-08T10:10:00.000</td>\n",
       "      <td>DEP</td>\n",
       "      <td>Department of Environmental Protection</td>\n",
       "      <td>Sewer</td>\n",
       "      <td>Street Flooding (SJ)</td>\n",
       "      <td>10305.0</td>\n",
       "      <td>753 QUINCY AVENUE</td>\n",
       "      <td>QUINCY AVENUE</td>\n",
       "      <td>...</td>\n",
       "      <td>02 STATEN ISLAND</td>\n",
       "      <td>5.038260e+09</td>\n",
       "      <td>STATEN ISLAND</td>\n",
       "      <td>960864.0</td>\n",
       "      <td>149333.0</td>\n",
       "      <td>PHONE</td>\n",
       "      <td>STATEN ISLAND</td>\n",
       "      <td>40.576530</td>\n",
       "      <td>-74.084185</td>\n",
       "      <td>{'latitude': '40.576529751013474', 'longitude'...</td>\n",
       "    </tr>\n",
       "    <tr>\n",
       "      <th>3</th>\n",
       "      <td>45277773</td>\n",
       "      <td>2019-12-31T15:42:00.000</td>\n",
       "      <td>2020-01-01T05:25:00.000</td>\n",
       "      <td>DEP</td>\n",
       "      <td>Department of Environmental Protection</td>\n",
       "      <td>Sewer</td>\n",
       "      <td>Street Flooding (SJ)</td>\n",
       "      <td>11379.0</td>\n",
       "      <td>61-21 70 STREET</td>\n",
       "      <td>70 STREET</td>\n",
       "      <td>...</td>\n",
       "      <td>05 QUEENS</td>\n",
       "      <td>4.029270e+09</td>\n",
       "      <td>QUEENS</td>\n",
       "      <td>1015410.0</td>\n",
       "      <td>201741.0</td>\n",
       "      <td>PHONE</td>\n",
       "      <td>QUEENS</td>\n",
       "      <td>40.720354</td>\n",
       "      <td>-73.887589</td>\n",
       "      <td>{'latitude': '40.72035428730757', 'longitude':...</td>\n",
       "    </tr>\n",
       "    <tr>\n",
       "      <th>4</th>\n",
       "      <td>45282532</td>\n",
       "      <td>2019-12-31T12:18:00.000</td>\n",
       "      <td>2019-12-31T14:15:00.000</td>\n",
       "      <td>DEP</td>\n",
       "      <td>Department of Environmental Protection</td>\n",
       "      <td>Sewer</td>\n",
       "      <td>Street Flooding (SJ)</td>\n",
       "      <td>11375.0</td>\n",
       "      <td>NaN</td>\n",
       "      <td>NaN</td>\n",
       "      <td>...</td>\n",
       "      <td>06 QUEENS</td>\n",
       "      <td>NaN</td>\n",
       "      <td>QUEENS</td>\n",
       "      <td>1027498.0</td>\n",
       "      <td>202160.0</td>\n",
       "      <td>PHONE</td>\n",
       "      <td>QUEENS</td>\n",
       "      <td>40.721454</td>\n",
       "      <td>-73.843978</td>\n",
       "      <td>{'latitude': '40.721453503515995', 'longitude'...</td>\n",
       "    </tr>\n",
       "  </tbody>\n",
       "</table>\n",
       "<p>5 rows × 27 columns</p>\n",
       "</div>"
      ]
     },
     "execution_count": 4,
     "metadata": {},
     "output_type": "execute_result"
    }
   ],
   "execution_count": 4
  },
  {
   "cell_type": "code",
   "metadata": {
    "ExecuteTime": {
     "end_time": "2024-12-03T06:37:35.225026Z",
     "start_time": "2024-12-03T06:37:35.167265Z"
    }
   },
   "source": [
    "# printing the column names, non-null counts, and data types of our columns\n",
    "df.info()"
   ],
   "outputs": [
    {
     "name": "stdout",
     "output_type": "stream",
     "text": [
      "<class 'pandas.core.frame.DataFrame'>\n",
      "RangeIndex: 24817 entries, 0 to 24816\n",
      "Data columns (total 27 columns):\n",
      " #   Column                          Non-Null Count  Dtype  \n",
      "---  ------                          --------------  -----  \n",
      " 0   unique_key                      24817 non-null  int64  \n",
      " 1   created_date                    24817 non-null  object \n",
      " 2   closed_date                     24815 non-null  object \n",
      " 3   agency                          24817 non-null  object \n",
      " 4   agency_name                     24817 non-null  object \n",
      " 5   complaint_type                  24817 non-null  object \n",
      " 6   descriptor                      24817 non-null  object \n",
      " 7   incident_zip                    24817 non-null  float64\n",
      " 8   incident_address                16002 non-null  object \n",
      " 9   street_name                     16002 non-null  object \n",
      " 10  cross_street_1                  21821 non-null  object \n",
      " 11  cross_street_2                  21816 non-null  object \n",
      " 12  address_type                    24817 non-null  object \n",
      " 13  city                            24817 non-null  object \n",
      " 14  status                          24817 non-null  object \n",
      " 15  resolution_description          24813 non-null  object \n",
      " 16  resolution_action_updated_date  24817 non-null  object \n",
      " 17  community_board                 24817 non-null  object \n",
      " 18  bbl                             14603 non-null  float64\n",
      " 19  borough                         24817 non-null  object \n",
      " 20  x_coordinate_state_plane        24817 non-null  float64\n",
      " 21  y_coordinate_state_plane        24817 non-null  float64\n",
      " 22  open_data_channel_type          24817 non-null  object \n",
      " 23  park_borough                    24817 non-null  object \n",
      " 24  latitude                        24817 non-null  float64\n",
      " 25  longitude                       24817 non-null  float64\n",
      " 26  location                        24817 non-null  object \n",
      "dtypes: float64(6), int64(1), object(20)\n",
      "memory usage: 5.1+ MB\n"
     ]
    }
   ],
   "execution_count": 5
  },
  {
   "cell_type": "markdown",
   "metadata": {},
   "source": [
    "## NYC Boroughs"
   ]
  },
  {
   "cell_type": "code",
   "metadata": {
    "ExecuteTime": {
     "end_time": "2024-12-03T06:37:44.351339Z",
     "start_time": "2024-12-03T06:37:35.472681Z"
    }
   },
   "source": [
    "# importing borough boundaries\n",
    "path = 'https://data.cityofnewyork.us/api/geospatial/tqmj-j8zm?method=export&format=Shapefile'\n",
    "borough_gdf = gpd.read_file(path)\n",
    "borough_gdf = borough_gdf.to_crs(2263)\n",
    "\n",
    "# previewing first five rows in data\n",
    "print('shape of data: {}'.format(borough_gdf.shape))\n",
    "borough_gdf.head()"
   ],
   "outputs": [
    {
     "name": "stdout",
     "output_type": "stream",
     "text": [
      "shape of data: (5, 5)\n"
     ]
    },
    {
     "data": {
      "text/plain": [
       "   boro_code      boro_name    shape_area     shape_leng  \\\n",
       "0        3.0       Brooklyn  1.934143e+09  728147.130565   \n",
       "1        5.0  Staten Island  1.623619e+09  325910.306061   \n",
       "2        1.0      Manhattan  6.366461e+08  360037.525777   \n",
       "3        2.0          Bronx  1.187175e+09  463180.578878   \n",
       "4        4.0         Queens  3.041418e+09  888197.010944   \n",
       "\n",
       "                                            geometry  \n",
       "0  MULTIPOLYGON (((1022227.320 152028.146, 102207...  \n",
       "1  MULTIPOLYGON (((970217.022 145643.332, 970227....  \n",
       "2  MULTIPOLYGON (((981219.056 188655.316, 980940....  \n",
       "3  MULTIPOLYGON (((1012821.806 229228.265, 101278...  \n",
       "4  MULTIPOLYGON (((1032452.015 154469.237, 103245...  "
      ],
      "text/html": [
       "<div>\n",
       "<style scoped>\n",
       "    .dataframe tbody tr th:only-of-type {\n",
       "        vertical-align: middle;\n",
       "    }\n",
       "\n",
       "    .dataframe tbody tr th {\n",
       "        vertical-align: top;\n",
       "    }\n",
       "\n",
       "    .dataframe thead th {\n",
       "        text-align: right;\n",
       "    }\n",
       "</style>\n",
       "<table border=\"1\" class=\"dataframe\">\n",
       "  <thead>\n",
       "    <tr style=\"text-align: right;\">\n",
       "      <th></th>\n",
       "      <th>boro_code</th>\n",
       "      <th>boro_name</th>\n",
       "      <th>shape_area</th>\n",
       "      <th>shape_leng</th>\n",
       "      <th>geometry</th>\n",
       "    </tr>\n",
       "  </thead>\n",
       "  <tbody>\n",
       "    <tr>\n",
       "      <th>0</th>\n",
       "      <td>3.0</td>\n",
       "      <td>Brooklyn</td>\n",
       "      <td>1.934143e+09</td>\n",
       "      <td>728147.130565</td>\n",
       "      <td>MULTIPOLYGON (((1022227.320 152028.146, 102207...</td>\n",
       "    </tr>\n",
       "    <tr>\n",
       "      <th>1</th>\n",
       "      <td>5.0</td>\n",
       "      <td>Staten Island</td>\n",
       "      <td>1.623619e+09</td>\n",
       "      <td>325910.306061</td>\n",
       "      <td>MULTIPOLYGON (((970217.022 145643.332, 970227....</td>\n",
       "    </tr>\n",
       "    <tr>\n",
       "      <th>2</th>\n",
       "      <td>1.0</td>\n",
       "      <td>Manhattan</td>\n",
       "      <td>6.366461e+08</td>\n",
       "      <td>360037.525777</td>\n",
       "      <td>MULTIPOLYGON (((981219.056 188655.316, 980940....</td>\n",
       "    </tr>\n",
       "    <tr>\n",
       "      <th>3</th>\n",
       "      <td>2.0</td>\n",
       "      <td>Bronx</td>\n",
       "      <td>1.187175e+09</td>\n",
       "      <td>463180.578878</td>\n",
       "      <td>MULTIPOLYGON (((1012821.806 229228.265, 101278...</td>\n",
       "    </tr>\n",
       "    <tr>\n",
       "      <th>4</th>\n",
       "      <td>4.0</td>\n",
       "      <td>Queens</td>\n",
       "      <td>3.041418e+09</td>\n",
       "      <td>888197.010944</td>\n",
       "      <td>MULTIPOLYGON (((1032452.015 154469.237, 103245...</td>\n",
       "    </tr>\n",
       "  </tbody>\n",
       "</table>\n",
       "</div>"
      ]
     },
     "execution_count": 6,
     "metadata": {},
     "output_type": "execute_result"
    }
   ],
   "execution_count": 6
  },
  {
   "cell_type": "code",
   "metadata": {
    "ExecuteTime": {
     "end_time": "2024-12-03T06:37:44.720777Z",
     "start_time": "2024-12-03T06:37:44.696131Z"
    }
   },
   "source": [
    "# summary of gdf\n",
    "borough_gdf.info()"
   ],
   "outputs": [
    {
     "name": "stdout",
     "output_type": "stream",
     "text": [
      "<class 'geopandas.geodataframe.GeoDataFrame'>\n",
      "RangeIndex: 5 entries, 0 to 4\n",
      "Data columns (total 5 columns):\n",
      " #   Column      Non-Null Count  Dtype   \n",
      "---  ------      --------------  -----   \n",
      " 0   boro_code   5 non-null      float64 \n",
      " 1   boro_name   5 non-null      object  \n",
      " 2   shape_area  5 non-null      float64 \n",
      " 3   shape_leng  5 non-null      float64 \n",
      " 4   geometry    5 non-null      geometry\n",
      "dtypes: float64(3), geometry(1), object(1)\n",
      "memory usage: 328.0+ bytes\n"
     ]
    }
   ],
   "execution_count": 7
  },
  {
   "cell_type": "markdown",
   "metadata": {},
   "source": [
    "## Neighborhood Tabulation Areas (NTAs)"
   ]
  },
  {
   "cell_type": "code",
   "metadata": {
    "ExecuteTime": {
     "end_time": "2024-12-03T06:38:03.723055Z",
     "start_time": "2024-12-03T06:37:45.517544Z"
    }
   },
   "source": [
    "# importing nta boundaries\n",
    "url = 'https://data.cityofnewyork.us/api/geospatial/cpf4-rkhq?method=export&format=GeoJSON'\n",
    "nta_gdf = gpd.read_file(url)\n",
    "nta_gdf = nta_gdf.to_crs(epsg=2263)\n",
    "\n",
    "# previewing first five rows in data\n",
    "print('shape of data: {}'.format(nta_gdf.shape[0]))\n",
    "nta_gdf.head()"
   ],
   "outputs": [
    {
     "name": "stdout",
     "output_type": "stream",
     "text": [
      "shape of data: 195\n"
     ]
    },
    {
     "data": {
      "text/plain": [
       "  ntacode     shape_area county_fips                             ntaname  \\\n",
       "0    QN08   77412747.756         081                          St. Albans   \n",
       "1    BK50  82089678.5561         047                            Canarsie   \n",
       "2    BX41   14716710.849         005                          Mount Hope   \n",
       "3    QN38  38835920.1944         081  Pomonok-Flushing Heights-Hillcrest   \n",
       "4    QN52  29453683.8069         081                       East Flushing   \n",
       "\n",
       "      shape_leng boro_name boro_code  \\\n",
       "0  45401.3169155    Queens         4   \n",
       "1  43703.6099368  Brooklyn         3   \n",
       "2  18937.2480746     Bronx         2   \n",
       "3  30731.4196253    Queens         4   \n",
       "4  25848.5455105    Queens         4   \n",
       "\n",
       "                                            geometry  \n",
       "0  MULTIPOLYGON (((1052996.114 196307.361, 105308...  \n",
       "1  MULTIPOLYGON (((1015236.113 174910.103, 101523...  \n",
       "2  MULTIPOLYGON (((1013128.551 250637.755, 101284...  \n",
       "3  MULTIPOLYGON (((1040671.302 208318.344, 104067...  \n",
       "4  MULTIPOLYGON (((1041061.948 215429.461, 104111...  "
      ],
      "text/html": [
       "<div>\n",
       "<style scoped>\n",
       "    .dataframe tbody tr th:only-of-type {\n",
       "        vertical-align: middle;\n",
       "    }\n",
       "\n",
       "    .dataframe tbody tr th {\n",
       "        vertical-align: top;\n",
       "    }\n",
       "\n",
       "    .dataframe thead th {\n",
       "        text-align: right;\n",
       "    }\n",
       "</style>\n",
       "<table border=\"1\" class=\"dataframe\">\n",
       "  <thead>\n",
       "    <tr style=\"text-align: right;\">\n",
       "      <th></th>\n",
       "      <th>ntacode</th>\n",
       "      <th>shape_area</th>\n",
       "      <th>county_fips</th>\n",
       "      <th>ntaname</th>\n",
       "      <th>shape_leng</th>\n",
       "      <th>boro_name</th>\n",
       "      <th>boro_code</th>\n",
       "      <th>geometry</th>\n",
       "    </tr>\n",
       "  </thead>\n",
       "  <tbody>\n",
       "    <tr>\n",
       "      <th>0</th>\n",
       "      <td>QN08</td>\n",
       "      <td>77412747.756</td>\n",
       "      <td>081</td>\n",
       "      <td>St. Albans</td>\n",
       "      <td>45401.3169155</td>\n",
       "      <td>Queens</td>\n",
       "      <td>4</td>\n",
       "      <td>MULTIPOLYGON (((1052996.114 196307.361, 105308...</td>\n",
       "    </tr>\n",
       "    <tr>\n",
       "      <th>1</th>\n",
       "      <td>BK50</td>\n",
       "      <td>82089678.5561</td>\n",
       "      <td>047</td>\n",
       "      <td>Canarsie</td>\n",
       "      <td>43703.6099368</td>\n",
       "      <td>Brooklyn</td>\n",
       "      <td>3</td>\n",
       "      <td>MULTIPOLYGON (((1015236.113 174910.103, 101523...</td>\n",
       "    </tr>\n",
       "    <tr>\n",
       "      <th>2</th>\n",
       "      <td>BX41</td>\n",
       "      <td>14716710.849</td>\n",
       "      <td>005</td>\n",
       "      <td>Mount Hope</td>\n",
       "      <td>18937.2480746</td>\n",
       "      <td>Bronx</td>\n",
       "      <td>2</td>\n",
       "      <td>MULTIPOLYGON (((1013128.551 250637.755, 101284...</td>\n",
       "    </tr>\n",
       "    <tr>\n",
       "      <th>3</th>\n",
       "      <td>QN38</td>\n",
       "      <td>38835920.1944</td>\n",
       "      <td>081</td>\n",
       "      <td>Pomonok-Flushing Heights-Hillcrest</td>\n",
       "      <td>30731.4196253</td>\n",
       "      <td>Queens</td>\n",
       "      <td>4</td>\n",
       "      <td>MULTIPOLYGON (((1040671.302 208318.344, 104067...</td>\n",
       "    </tr>\n",
       "    <tr>\n",
       "      <th>4</th>\n",
       "      <td>QN52</td>\n",
       "      <td>29453683.8069</td>\n",
       "      <td>081</td>\n",
       "      <td>East Flushing</td>\n",
       "      <td>25848.5455105</td>\n",
       "      <td>Queens</td>\n",
       "      <td>4</td>\n",
       "      <td>MULTIPOLYGON (((1041061.948 215429.461, 104111...</td>\n",
       "    </tr>\n",
       "  </tbody>\n",
       "</table>\n",
       "</div>"
      ]
     },
     "execution_count": 8,
     "metadata": {},
     "output_type": "execute_result"
    }
   ],
   "execution_count": 8
  },
  {
   "cell_type": "code",
   "metadata": {
    "ExecuteTime": {
     "end_time": "2024-12-03T06:38:03.847269Z",
     "start_time": "2024-12-03T06:38:03.818270Z"
    }
   },
   "source": [
    "# summary of gdf\n",
    "nta_gdf.info()"
   ],
   "outputs": [
    {
     "name": "stdout",
     "output_type": "stream",
     "text": [
      "<class 'geopandas.geodataframe.GeoDataFrame'>\n",
      "RangeIndex: 195 entries, 0 to 194\n",
      "Data columns (total 8 columns):\n",
      " #   Column       Non-Null Count  Dtype   \n",
      "---  ------       --------------  -----   \n",
      " 0   ntacode      195 non-null    object  \n",
      " 1   shape_area   195 non-null    object  \n",
      " 2   county_fips  195 non-null    object  \n",
      " 3   ntaname      195 non-null    object  \n",
      " 4   shape_leng   195 non-null    object  \n",
      " 5   boro_name    195 non-null    object  \n",
      " 6   boro_code    195 non-null    object  \n",
      " 7   geometry     195 non-null    geometry\n",
      "dtypes: geometry(1), object(7)\n",
      "memory usage: 12.3+ KB\n"
     ]
    }
   ],
   "execution_count": 9
  },
  {
   "cell_type": "markdown",
   "metadata": {},
   "source": [
    "# Data Wrangling"
   ]
  },
  {
   "cell_type": "code",
   "metadata": {
    "ExecuteTime": {
     "end_time": "2024-12-03T06:38:04.212638Z",
     "start_time": "2024-12-03T06:38:04.117703Z"
    }
   },
   "source": [
    "# format datetime columns\n",
    "df['created_date'] = pd.to_datetime(df['created_date'])\n",
    "df['closed_date'] = pd.to_datetime(df['closed_date'])\n",
    "df['year'] = df['created_date'].dt.year\n",
    "\n",
    "# examine columns\n",
    "df.loc[:, ['created_date', 'closed_date', 'year']].info()"
   ],
   "outputs": [
    {
     "name": "stdout",
     "output_type": "stream",
     "text": [
      "<class 'pandas.core.frame.DataFrame'>\n",
      "RangeIndex: 24817 entries, 0 to 24816\n",
      "Data columns (total 3 columns):\n",
      " #   Column        Non-Null Count  Dtype         \n",
      "---  ------        --------------  -----         \n",
      " 0   created_date  24817 non-null  datetime64[ns]\n",
      " 1   closed_date   24815 non-null  datetime64[ns]\n",
      " 2   year          24817 non-null  int64         \n",
      "dtypes: datetime64[ns](2), int64(1)\n",
      "memory usage: 581.8 KB\n"
     ]
    }
   ],
   "execution_count": 10
  },
  {
   "cell_type": "code",
   "metadata": {
    "ExecuteTime": {
     "end_time": "2024-12-03T06:38:04.656916Z",
     "start_time": "2024-12-03T06:38:04.625135Z"
    }
   },
   "source": [
    "# create new columns in nta dataframe\n",
    "nta_gdf['ntaname_boro'] = nta_gdf['ntaname'] + ', ' + nta_gdf['boro_name']\n",
    "nta_gdf['shape_area'] = nta_gdf['shape_area'].astype(float)\n",
    "nta_gdf['shape_leng'] = nta_gdf['shape_leng'].astype(float)\n",
    "nta_gdf['shape_area_sq_mi'] = nta_gdf['shape_area'] / 27878400\n",
    "\n",
    "# examine new columns\n",
    "nta_gdf.info()"
   ],
   "outputs": [
    {
     "name": "stdout",
     "output_type": "stream",
     "text": [
      "<class 'geopandas.geodataframe.GeoDataFrame'>\n",
      "RangeIndex: 195 entries, 0 to 194\n",
      "Data columns (total 10 columns):\n",
      " #   Column            Non-Null Count  Dtype   \n",
      "---  ------            --------------  -----   \n",
      " 0   ntacode           195 non-null    object  \n",
      " 1   shape_area        195 non-null    float64 \n",
      " 2   county_fips       195 non-null    object  \n",
      " 3   ntaname           195 non-null    object  \n",
      " 4   shape_leng        195 non-null    float64 \n",
      " 5   boro_name         195 non-null    object  \n",
      " 6   boro_code         195 non-null    object  \n",
      " 7   geometry          195 non-null    geometry\n",
      " 8   ntaname_boro      195 non-null    object  \n",
      " 9   shape_area_sq_mi  195 non-null    float64 \n",
      "dtypes: float64(3), geometry(1), object(6)\n",
      "memory usage: 15.4+ KB\n"
     ]
    }
   ],
   "execution_count": 11
  },
  {
   "cell_type": "code",
   "metadata": {
    "ExecuteTime": {
     "end_time": "2024-12-03T06:38:06.018797Z",
     "start_time": "2024-12-03T06:38:05.499473Z"
    }
   },
   "source": [
    "# generate geometry from x, y points\n",
    "\n",
    "crs = 2263\n",
    "geometry = gpd.points_from_xy(\n",
    "    df['x_coordinate_state_plane'],\n",
    "    df['y_coordinate_state_plane']\n",
    ")\n",
    "\n",
    "gdf = gpd.GeoDataFrame(\n",
    "    df,\n",
    "    geometry=geometry,\n",
    "    crs=crs\n",
    ")\n",
    "\n",
    "# preview data\n",
    "print('shape of data: {}'.format(gdf.shape))\n",
    "gdf.iloc[:5, -5:]"
   ],
   "outputs": [
    {
     "name": "stdout",
     "output_type": "stream",
     "text": [
      "shape of data: (24817, 29)\n"
     ]
    },
    {
     "data": {
      "text/plain": [
       "    latitude  longitude                                           location  \\\n",
       "0  40.575041 -74.093186  {'latitude': '40.57504060779978', 'longitude':...   \n",
       "1  40.560476 -74.166889  {'latitude': '40.56047555908232', 'longitude':...   \n",
       "2  40.576530 -74.084185  {'latitude': '40.576529751013474', 'longitude'...   \n",
       "3  40.720354 -73.887589  {'latitude': '40.72035428730757', 'longitude':...   \n",
       "4  40.721454 -73.843978  {'latitude': '40.721453503515995', 'longitude'...   \n",
       "\n",
       "   year                        geometry  \n",
       "0  2019   POINT (958363.000 148793.000)  \n",
       "1  2019   POINT (937878.000 143517.000)  \n",
       "2  2019   POINT (960864.000 149333.000)  \n",
       "3  2019  POINT (1015410.000 201741.000)  \n",
       "4  2019  POINT (1027498.000 202160.000)  "
      ],
      "text/html": [
       "<div>\n",
       "<style scoped>\n",
       "    .dataframe tbody tr th:only-of-type {\n",
       "        vertical-align: middle;\n",
       "    }\n",
       "\n",
       "    .dataframe tbody tr th {\n",
       "        vertical-align: top;\n",
       "    }\n",
       "\n",
       "    .dataframe thead th {\n",
       "        text-align: right;\n",
       "    }\n",
       "</style>\n",
       "<table border=\"1\" class=\"dataframe\">\n",
       "  <thead>\n",
       "    <tr style=\"text-align: right;\">\n",
       "      <th></th>\n",
       "      <th>latitude</th>\n",
       "      <th>longitude</th>\n",
       "      <th>location</th>\n",
       "      <th>year</th>\n",
       "      <th>geometry</th>\n",
       "    </tr>\n",
       "  </thead>\n",
       "  <tbody>\n",
       "    <tr>\n",
       "      <th>0</th>\n",
       "      <td>40.575041</td>\n",
       "      <td>-74.093186</td>\n",
       "      <td>{'latitude': '40.57504060779978', 'longitude':...</td>\n",
       "      <td>2019</td>\n",
       "      <td>POINT (958363.000 148793.000)</td>\n",
       "    </tr>\n",
       "    <tr>\n",
       "      <th>1</th>\n",
       "      <td>40.560476</td>\n",
       "      <td>-74.166889</td>\n",
       "      <td>{'latitude': '40.56047555908232', 'longitude':...</td>\n",
       "      <td>2019</td>\n",
       "      <td>POINT (937878.000 143517.000)</td>\n",
       "    </tr>\n",
       "    <tr>\n",
       "      <th>2</th>\n",
       "      <td>40.576530</td>\n",
       "      <td>-74.084185</td>\n",
       "      <td>{'latitude': '40.576529751013474', 'longitude'...</td>\n",
       "      <td>2019</td>\n",
       "      <td>POINT (960864.000 149333.000)</td>\n",
       "    </tr>\n",
       "    <tr>\n",
       "      <th>3</th>\n",
       "      <td>40.720354</td>\n",
       "      <td>-73.887589</td>\n",
       "      <td>{'latitude': '40.72035428730757', 'longitude':...</td>\n",
       "      <td>2019</td>\n",
       "      <td>POINT (1015410.000 201741.000)</td>\n",
       "    </tr>\n",
       "    <tr>\n",
       "      <th>4</th>\n",
       "      <td>40.721454</td>\n",
       "      <td>-73.843978</td>\n",
       "      <td>{'latitude': '40.721453503515995', 'longitude'...</td>\n",
       "      <td>2019</td>\n",
       "      <td>POINT (1027498.000 202160.000)</td>\n",
       "    </tr>\n",
       "  </tbody>\n",
       "</table>\n",
       "</div>"
      ]
     },
     "execution_count": 12,
     "metadata": {},
     "output_type": "execute_result"
    }
   ],
   "execution_count": 12
  },
  {
   "cell_type": "code",
   "metadata": {
    "ExecuteTime": {
     "end_time": "2024-12-03T06:38:06.176257Z",
     "start_time": "2024-12-03T06:38:06.135417Z"
    }
   },
   "source": [
    "# confirm crs\n",
    "gdf.crs"
   ],
   "outputs": [
    {
     "data": {
      "text/plain": [
       "<Projected CRS: EPSG:2263>\n",
       "Name: NAD83 / New York Long Island (ftUS)\n",
       "Axis Info [cartesian]:\n",
       "- X[east]: Easting (US survey foot)\n",
       "- Y[north]: Northing (US survey foot)\n",
       "Area of Use:\n",
       "- name: USA - New York - SPCS - Long Island\n",
       "- bounds: (-74.26, 40.47, -71.8, 41.3)\n",
       "Coordinate Operation:\n",
       "- name: SPCS83 New York Long Island zone (US Survey feet)\n",
       "- method: Lambert Conic Conformal (2SP)\n",
       "Datum: North American Datum 1983\n",
       "- Ellipsoid: GRS 1980\n",
       "- Prime Meridian: Greenwich"
      ]
     },
     "execution_count": 13,
     "metadata": {},
     "output_type": "execute_result"
    }
   ],
   "execution_count": 13
  },
  {
   "cell_type": "code",
   "metadata": {
    "ExecuteTime": {
     "end_time": "2024-12-03T06:38:08.120484Z",
     "start_time": "2024-12-03T06:38:06.348210Z"
    }
   },
   "source": [
    "# sanity check map\n",
    "gdf.plot()"
   ],
   "outputs": [
    {
     "data": {
      "text/plain": [
       "<AxesSubplot:>"
      ]
     },
     "execution_count": 14,
     "metadata": {},
     "output_type": "execute_result"
    },
    {
     "data": {
      "text/plain": [
       "<Figure size 432x288 with 1 Axes>"
      ],
      "image/png": "[encoded data removed]"
     },
     "metadata": {
      "needs_background": "light"
     },
     "output_type": "display_data"
    }
   ],
   "execution_count": 14
  },
  {
   "cell_type": "markdown",
   "metadata": {},
   "source": [
    "## Spatial Join Neighborhood Tabulation Areas (NTAs) Information to Complaints"
   ]
  },
  {
   "cell_type": "code",
   "metadata": {
    "ExecuteTime": {
     "end_time": "2024-12-03T06:38:08.828504Z",
     "start_time": "2024-12-03T06:38:08.136129Z"
    }
   },
   "source": [
    "# spatial join nta information to points\n",
    "gdf_merged = gpd.sjoin(\n",
    "    gdf,\n",
    "    nta_gdf,\n",
    "    how=\"inner\",\n",
    "    predicate='within'\n",
    ")\n",
    "\n",
    "# drop right index column and reset gdf index\n",
    "gdf_merged = (\n",
    "    gdf_merged\n",
    "    .drop(columns=['index_right'])\n",
    "    .reset_index(drop=True)\n",
    ")\n",
    "\n",
    "# sanity checks\n",
    "print('shape of data: {:,}'.format(gdf_merged.shape[0]))\n",
    "print('count dropped rows: {}'.format(gdf.shape[0] - gdf_merged.shape[0]))\n",
    "print('unique_key unique: {}.'.format(gdf_merged['unique_key'].is_unique))\n",
    "print('crs: {}'.format(gdf_merged.crs))\n",
    "\n",
    "# preview data\n",
    "gdf_merged.head()"
   ],
   "outputs": [
    {
     "ename": "TypeError",
     "evalue": "sjoin() got an unexpected keyword argument 'predicate'",
     "output_type": "error",
     "traceback": [
      "\u001B[1;31m---------------------------------------------------------------------------\u001B[0m",
      "\u001B[1;31mTypeError\u001B[0m                                 Traceback (most recent call last)",
      "\u001B[1;32m<ipython-input-15-3d913e32ad40>\u001B[0m in \u001B[0;36m<module>\u001B[1;34m\u001B[0m\n\u001B[0;32m      1\u001B[0m \u001B[1;31m# spatial join nta information to points\u001B[0m\u001B[1;33m\u001B[0m\u001B[1;33m\u001B[0m\u001B[1;33m\u001B[0m\u001B[0m\n\u001B[1;32m----> 2\u001B[1;33m gdf_merged = gpd.sjoin(\n\u001B[0m\u001B[0;32m      3\u001B[0m     \u001B[0mgdf\u001B[0m\u001B[1;33m,\u001B[0m\u001B[1;33m\u001B[0m\u001B[1;33m\u001B[0m\u001B[0m\n\u001B[0;32m      4\u001B[0m     \u001B[0mnta_gdf\u001B[0m\u001B[1;33m,\u001B[0m\u001B[1;33m\u001B[0m\u001B[1;33m\u001B[0m\u001B[0m\n\u001B[0;32m      5\u001B[0m     \u001B[0mhow\u001B[0m\u001B[1;33m=\u001B[0m\u001B[1;34m\"inner\"\u001B[0m\u001B[1;33m,\u001B[0m\u001B[1;33m\u001B[0m\u001B[1;33m\u001B[0m\u001B[0m\n",
      "\u001B[1;31mTypeError\u001B[0m: sjoin() got an unexpected keyword argument 'predicate'"
     ]
    }
   ],
   "execution_count": 15
  },
  {
   "cell_type": "code",
   "metadata": {},
   "source": [
    "# summary of gdf\n",
    "gdf_merged.info()"
   ],
   "outputs": [],
   "execution_count": null
  },
  {
   "cell_type": "code",
   "metadata": {},
   "source": [
    "# examine two borough columns, check borough comparison between complaint and nta\n",
    "condition = (gdf_merged['borough'].str.title() != gdf_merged['boro_name'].str.title())\n",
    "count = gdf_merged.loc[condition].shape[0]\n",
    "\n",
    "print(\"count of borough names that don't reconcile: {:,}\".format(count))"
   ],
   "outputs": [],
   "execution_count": null
  },
  {
   "cell_type": "code",
   "metadata": {},
   "source": [
    "# drop borough column from 311 dataset, using this pandas style so we can run this cell again if needed\n",
    "criteria = gdf_merged.columns.isin(['borough'])\n",
    "gdf_merged = gdf_merged.loc[:, gdf_merged.columns[~criteria]]\n",
    "\n",
    "print('shape of data: {}\\n'.format(gdf_merged.shape))\n",
    "gdf_merged.info()"
   ],
   "outputs": [],
   "execution_count": null
  },
  {
   "cell_type": "markdown",
   "metadata": {},
   "source": [
    "# Mapping"
   ]
  },
  {
   "cell_type": "markdown",
   "metadata": {},
   "source": [
    "## Hexbin Maps of Counts of Complaints"
   ]
  },
  {
   "cell_type": "code",
   "metadata": {},
   "source": [
    "# identify max bounds of hexbin gridsize=30\n",
    "hb = plt.hexbin(\n",
    "    gdf_merged['x_coordinate_state_plane'], \n",
    "    gdf_merged['y_coordinate_state_plane'], \n",
    "    gridsize=30,\n",
    "    mincnt=1,\n",
    ")\n",
    "\n",
    "plt.close()\n",
    "print('max value of array: {}'.format(hb.get_array().max()))"
   ],
   "outputs": [],
   "execution_count": null
  },
  {
   "cell_type": "code",
   "metadata": {},
   "source": [
    "# 30 hexagons in the x-direction\n",
    "fig, ax = plt.subplots(figsize=(8, 8))\n",
    "\n",
    "divider = make_axes_locatable(ax)\n",
    "cax = divider.append_axes(\"right\", size=\"5%\", pad=0.1)\n",
    "cmap = plt.cm.Blues\n",
    "\n",
    "# get max of array and place as top bounds\n",
    "norm = mpl.colors.BoundaryNorm([0, 50, 150, 250, 350, 450], cmap.N)\n",
    "\n",
    "hb = ax.hexbin(\n",
    "    gdf_merged['x_coordinate_state_plane'], \n",
    "    gdf_merged['y_coordinate_state_plane'], \n",
    "    gridsize=30,\n",
    "    mincnt=1,\n",
    "    cmap=cmap,\n",
    "    norm=norm,\n",
    "    zorder=0,\n",
    ")\n",
    "\n",
    "nta_gdf.plot(\n",
    "    facecolor=\"none\", \n",
    "    edgecolor=\"black\", \n",
    "    linewidth=.2,\n",
    "    ax=ax\n",
    ")\n",
    "\n",
    "borough_gdf.plot(\n",
    "    facecolor=\"none\", \n",
    "    edgecolor=\"black\", \n",
    "    linewidth=.6,\n",
    "    ax=ax\n",
    ")\n",
    "\n",
    "plt.colorbar(hb, cax=cax)\n",
    "\n",
    "label = \"Count of NYC 311 Street Flooding Complaints from 2010 to 2020\"\n",
    "ax.set_title(label, fontsize=13)\n",
    "ax.axis('off')\n",
    "\n",
    "plt.tight_layout()"
   ],
   "outputs": [],
   "execution_count": null
  },
  {
   "cell_type": "markdown",
   "metadata": {},
   "source": [
    "**Figure xx:**"
   ]
  },
  {
   "cell_type": "code",
   "metadata": {},
   "source": [
    "# identify max bounds of hexbin gridsize=50\n",
    "hb = plt.hexbin(\n",
    "    gdf_merged['x_coordinate_state_plane'], \n",
    "    gdf_merged['y_coordinate_state_plane'], \n",
    "    gridsize=50,\n",
    "    mincnt=1,\n",
    ")\n",
    "\n",
    "plt.close()\n",
    "print('max value of array: {}'.format(hb.get_array().max()))"
   ],
   "outputs": [],
   "execution_count": null
  },
  {
   "cell_type": "code",
   "metadata": {},
   "source": [
    "# 30 hexagons in the x-direction\n",
    "fig, ax = plt.subplots(figsize=(8, 8))\n",
    "\n",
    "divider = make_axes_locatable(ax)\n",
    "cax = divider.append_axes(\"right\", size=\"5%\", pad=0.1)\n",
    "cmap = plt.cm.Blues\n",
    "\n",
    "# get max of array and place as top bounds\n",
    "norm = mpl.colors.BoundaryNorm([0, 50, 100, 200, 300, 400], cmap.N)\n",
    "\n",
    "hb = ax.hexbin(\n",
    "    gdf_merged['x_coordinate_state_plane'], \n",
    "    gdf_merged['y_coordinate_state_plane'], \n",
    "    gridsize=50,\n",
    "    mincnt=1,\n",
    "    cmap=cmap,\n",
    "    norm=norm,\n",
    "    zorder=0,\n",
    ")\n",
    "\n",
    "nta_gdf.plot(\n",
    "    facecolor=\"none\", \n",
    "    edgecolor=\"black\", \n",
    "    linewidth=.2,\n",
    "    ax=ax\n",
    ")\n",
    "\n",
    "borough_gdf.plot(\n",
    "    facecolor=\"none\", \n",
    "    edgecolor=\"black\", \n",
    "    linewidth=.6,\n",
    "    ax=ax\n",
    ")\n",
    "\n",
    "plt.colorbar(hb, cax=cax)\n",
    "\n",
    "label = \"Count of NYC 311 Street Flooding Complaints from 2010 to 2020\"\n",
    "ax.set_title(label, fontsize=13)\n",
    "ax.axis('off')\n",
    "\n",
    "plt.tight_layout()"
   ],
   "outputs": [],
   "execution_count": null
  },
  {
   "cell_type": "markdown",
   "metadata": {},
   "source": [
    "**Figure xx:**"
   ]
  },
  {
   "cell_type": "markdown",
   "metadata": {},
   "source": [
    "### Counts By Borough"
   ]
  },
  {
   "cell_type": "code",
   "metadata": {},
   "source": [
    "fig, ax = plt.subplots(figsize=(8, 8))\n",
    "\n",
    "boro_name = 'Queens'\n",
    "hb = ax.hexbin(\n",
    "    gdf_merged.loc[gdf_merged['boro_name'] == boro_name, 'x_coordinate_state_plane'], \n",
    "    gdf_merged.loc[gdf_merged['boro_name'] == boro_name, 'y_coordinate_state_plane'], \n",
    "    gridsize=30,\n",
    "    mincnt=1,\n",
    "    cmap='Blues'\n",
    ")\n",
    "\n",
    "divider = make_axes_locatable(ax)\n",
    "cax = divider.append_axes(\"right\", size=\"5%\", pad=0.1)\n",
    "plt.colorbar(hb, cax=cax)\n",
    "\n",
    "(nta_gdf\n",
    " .loc[nta_gdf['boro_name'] == boro_name]\n",
    " .plot(facecolor=\"none\", edgecolor=\"black\", ax=ax)\n",
    ")\n",
    "\n",
    "label = 'Count of 311 Street Flooding Complaints from 2010 to 2020 in Queens, New York'\n",
    "ax.set_title(label, fontsize=15, pad=10)\n",
    "ax.axis('off')\n",
    "\n",
    "plt.tight_layout()"
   ],
   "outputs": [],
   "execution_count": null
  },
  {
   "cell_type": "markdown",
   "metadata": {},
   "source": [
    "**Figure xx:**"
   ]
  },
  {
   "cell_type": "code",
   "metadata": {},
   "source": [
    "fig, ax = plt.subplots(figsize=(8, 8))\n",
    "\n",
    "boro_name = 'Brooklyn'\n",
    "hb = ax.hexbin(\n",
    "    gdf_merged.loc[gdf_merged['boro_name'] == boro_name, 'x_coordinate_state_plane'], \n",
    "    gdf_merged.loc[gdf_merged['boro_name'] == boro_name, 'y_coordinate_state_plane'], \n",
    "    gridsize=30, mincnt=1,\n",
    "    cmap='Blues'\n",
    ")\n",
    "\n",
    "divider = make_axes_locatable(ax)\n",
    "cax = divider.append_axes(\"right\", size=\"5%\", pad=0.1)\n",
    "plt.colorbar(hb, cax=cax)\n",
    "\n",
    "(nta_gdf\n",
    " .loc[nta_gdf['boro_name'] == boro_name]\n",
    " .plot(facecolor=\"none\", edgecolor=\"black\", ax=ax)\n",
    ")\n",
    " \n",
    "label = 'Count of 311 Street Flooding Complaints\\nfrom 2010 to 2020 in Brooklyn, New York'\n",
    "ax.set_title(label, fontsize=15, pad=10)\n",
    "ax.axis('off')\n",
    "\n",
    "plt.tight_layout()"
   ],
   "outputs": [],
   "execution_count": null
  },
  {
   "cell_type": "markdown",
   "metadata": {},
   "source": [
    "**Figure xx:**"
   ]
  },
  {
   "cell_type": "code",
   "metadata": {},
   "source": [
    "fig, ax = plt.subplots(figsize=(8, 8))\n",
    "\n",
    "boro_name = 'Bronx'\n",
    "hb = ax.hexbin(\n",
    "    gdf_merged.loc[gdf_merged['boro_name'] == boro_name, 'x_coordinate_state_plane'],\n",
    "    gdf_merged.loc[gdf_merged['boro_name'] == boro_name, 'y_coordinate_state_plane'], \n",
    "    gridsize=30,\n",
    "    mincnt=1,\n",
    "    cmap='Blues'\n",
    ")\n",
    "\n",
    "divider = make_axes_locatable(ax)\n",
    "cax = divider.append_axes(\"right\", size=\"5%\", pad=0.1)\n",
    "plt.colorbar(hb, cax=cax)\n",
    "\n",
    "(nta_gdf\n",
    " .loc[nta_gdf['boro_name'] == boro_name]\n",
    " .plot(facecolor=\"none\", edgecolor=\"black\", ax=ax)\n",
    ")\n",
    "\n",
    "label = 'Count of 311 Street Flooding Complaints\\nfrom 2010 to 2020 in The Bronx, New York'\n",
    "ax.set_title(label, fontsize=15, pad=10)\n",
    "ax.axis('off')\n",
    "\n",
    "plt.tight_layout()"
   ],
   "outputs": [],
   "execution_count": null
  },
  {
   "cell_type": "markdown",
   "metadata": {},
   "source": [
    "**Figure xx:**"
   ]
  },
  {
   "cell_type": "code",
   "metadata": {},
   "source": [
    "fig, ax = plt.subplots(figsize=(8, 8))\n",
    "\n",
    "boro_name = 'Manhattan'\n",
    "hb = ax.hexbin(\n",
    "    gdf_merged.loc[gdf_merged['boro_name'] == boro_name, 'x_coordinate_state_plane'], \n",
    "    gdf_merged.loc[gdf_merged['boro_name'] == boro_name, 'y_coordinate_state_plane'], \n",
    "    gridsize=30, mincnt=1,\n",
    "    cmap='Blues'\n",
    ")\n",
    "\n",
    "divider = make_axes_locatable(ax)\n",
    "cax = divider.append_axes(\"right\", size=\"5%\", pad=0.1)\n",
    "plt.colorbar(hb, cax=cax)\n",
    "\n",
    "(nta_gdf\n",
    " .loc[nta_gdf.boro_name == boro_name]\n",
    " .plot(facecolor=\"none\", edgecolor=\"black\", ax=ax)\n",
    ")\n",
    "\n",
    "label = 'Count of 311 Street Flooding Complaints\\nfrom 2010 to 2020 in Manhattan, New York'\n",
    "ax.set_title(label, fontsize=15, pad=10)\n",
    "ax.axis('off')\n",
    "\n",
    "plt.tight_layout()"
   ],
   "outputs": [],
   "execution_count": null
  },
  {
   "cell_type": "markdown",
   "metadata": {},
   "source": [
    "**Figure xx:**"
   ]
  },
  {
   "cell_type": "code",
   "metadata": {},
   "source": [
    "fig, ax = plt.subplots(figsize=(8, 8))\n",
    "\n",
    "boro_name = 'Staten Island'\n",
    "hb = ax.hexbin(\n",
    "    gdf_merged.loc[gdf_merged['boro_name'] == boro_name, 'x_coordinate_state_plane'], \n",
    "    gdf_merged.loc[gdf_merged['boro_name'] == boro_name, 'y_coordinate_state_plane'], \n",
    "    gridsize=30, mincnt=1,\n",
    "    cmap='Blues'\n",
    ")\n",
    "\n",
    "divider = make_axes_locatable(ax)\n",
    "cax = divider.append_axes(\"right\", size=\"5%\", pad=0.1)\n",
    "plt.colorbar(hb, cax=cax)\n",
    "\n",
    "(nta_gdf\n",
    " .loc[nta_gdf.boro_name == boro_name]\n",
    " .plot(facecolor=\"none\", edgecolor=\"black\", ax=ax)\n",
    ")\n",
    "\n",
    "\n",
    "label = 'Count of 311 Street Flooding Complaints\\nfrom 2010 to 2020 in Staten Island, New York'\n",
    "ax.set_title(label, fontsize=15, pad=10)\n",
    "ax.axis('off')\n",
    "\n",
    "plt.tight_layout()"
   ],
   "outputs": [],
   "execution_count": null
  },
  {
   "cell_type": "markdown",
   "metadata": {},
   "source": [
    "**Figure xx:**"
   ]
  },
  {
   "cell_type": "markdown",
   "metadata": {},
   "source": [
    "## Counts by Neighborhood Tabulation Areas (NTA)"
   ]
  },
  {
   "cell_type": "code",
   "metadata": {},
   "source": [
    "# group complaints by NTA\n",
    "grouped_gdf = (\n",
    "    gdf_merged\n",
    "    .groupby(by='ntaname_boro')['unique_key']\n",
    "    .count()\n",
    "    .reset_index()\n",
    "    .rename(columns={\"unique_key\": \"count\"})\n",
    ")\n",
    "\n",
    "# merge nta complaint counts with nta shapefile\n",
    "nta_gdf_counts = nta_gdf.merge(\n",
    "    grouped_gdf,\n",
    "    on='ntaname_boro'\n",
    ")\n",
    "\n",
    "# get count per sq mi\n",
    "area = nta_gdf_counts['shape_area_sq_mi'].replace(0, np.nan)\n",
    "nta_gdf_counts['count_sq_mi'] = round(nta_gdf_counts['count'] / area, 2)\n",
    "\n",
    "print('shape of data: {}\\n'.format(nta_gdf_counts.shape))\n",
    "nta_gdf_counts.head()"
   ],
   "outputs": [],
   "execution_count": null
  },
  {
   "cell_type": "code",
   "metadata": {},
   "source": [
    "# summary stats of nta counts\n",
    "nta_gdf_counts.loc[:, ['count', 'count_sq_mi']].describe()"
   ],
   "outputs": [],
   "execution_count": null
  },
  {
   "cell_type": "code",
   "metadata": {},
   "source": [
    "# preview count sort desc\n",
    "(nta_gdf_counts.loc[:, ['ntaname_boro', 'shape_area_sq_mi', 'count', 'count_sq_mi']]\n",
    " .sort_values(by='count', ascending=False)\n",
    " .head(20)\n",
    " .loc[:, ['ntaname_boro', 'shape_area_sq_mi', 'count', 'count_sq_mi']]\n",
    " .round({'shape_area_sq_mi': 3})\n",
    " .rename(columns={'shape_area_sq_mi':'area_sq_mi'})\n",
    " .reset_index(drop=True)\n",
    " .set_index([pd.Series(range(1, 21))])\n",
    ") "
   ],
   "outputs": [],
   "execution_count": null
  },
  {
   "cell_type": "markdown",
   "metadata": {},
   "source": [
    "**Table xx:** Highest Count of 311 Street Flooding Complaints by Neighborhood Tabulation Area (NTA) in New York City."
   ]
  },
  {
   "cell_type": "code",
   "metadata": {},
   "source": [
    "# preview count_sq_mi sort desc\n",
    "(nta_gdf_counts.loc[:, ['ntaname_boro', 'shape_area_sq_mi', 'count', 'count_sq_mi']]\n",
    " .sort_values(by='count_sq_mi', ascending=False)\n",
    " .head(20)\n",
    " .loc[:, ['ntaname_boro', 'shape_area_sq_mi', 'count', 'count_sq_mi']]\n",
    " .round({'shape_area_sq_mi': 3})\n",
    " .rename(columns={'shape_area_sq_mi':'area_sq_mi'})\n",
    " .reset_index(drop=True)\n",
    " .set_index([pd.Series(range(1, 21))])\n",
    ") "
   ],
   "outputs": [],
   "execution_count": null
  },
  {
   "cell_type": "markdown",
   "metadata": {},
   "source": [
    "**Table xx:** Highest Count of 311 Street Flooding Complaints per Square Mile by Neighborhood Tabulation Area (NTA) in New York City."
   ]
  },
  {
   "cell_type": "code",
   "metadata": {},
   "source": [
    "plt.figure(figsize=(8, 6))\n",
    "\n",
    "data = nta_gdf_counts.sort_values(by='count', ascending=False).head(10)\n",
    "\n",
    "sns.barplot(\n",
    "    data=data,\n",
    "    y='ntaname_boro',\n",
    "    x='count',\n",
    "    color='#1f77b4'\n",
    ")\n",
    "\n",
    "label = 'Count of NYC 311 Street Flooding Complaints by NTA from 2010-2020'\n",
    "plt.title(label, fontsize=12, pad=10, x=.1)\n",
    "plt.xlabel('Count', fontsize=12)\n",
    "plt.ylabel('Neighborhood Tabulation Area (NTA)', fontsize=12)\n",
    "\n",
    "plt.tight_layout()"
   ],
   "outputs": [],
   "execution_count": null
  },
  {
   "cell_type": "markdown",
   "metadata": {},
   "source": [
    "**Figure xx:**"
   ]
  },
  {
   "cell_type": "code",
   "metadata": {},
   "source": [
    "plt.figure(figsize=(8, 6))\n",
    "\n",
    "data = nta_gdf_counts.sort_values(by='count_sq_mi', ascending=False).head(10)\n",
    "\n",
    "sns.barplot(\n",
    "    data=data,\n",
    "    y='ntaname_boro',\n",
    "    x='count_sq_mi',\n",
    "    color='#1f77b4'\n",
    ")\n",
    "\n",
    "label = 'Count of NYC 311 Street Flooding Complaints Per Square Mile by NTA from 2010-2020'\n",
    "plt.title(label, fontsize=12, pad=10, x=.1)\n",
    "plt.xlabel('Count per Square Mile', fontsize=12)\n",
    "plt.ylabel('Neighborhood Tabulation Area (NTA)', fontsize=12)\n",
    "\n",
    "plt.tight_layout()"
   ],
   "outputs": [],
   "execution_count": null
  },
  {
   "cell_type": "markdown",
   "metadata": {},
   "source": [
    "**Figure xx:**"
   ]
  },
  {
   "cell_type": "code",
   "metadata": {},
   "source": [
    "fig, axs = plt.subplots(2, 1, sharey=False, figsize=(8, 7))\n",
    "\n",
    "# first plot\n",
    "data = nta_gdf_counts.sort_values(by='count', ascending=False).head(10)\n",
    "\n",
    "sns.barplot(\n",
    "    data=data,\n",
    "    y='ntaname_boro',\n",
    "    x='count',\n",
    "    color='#1f77b4',\n",
    "    ax=axs[0]\n",
    ")\n",
    "\n",
    "label = 'Count of NYC 311 Street Flooding Complaints\\n\\\n",
    "by Neighborhood Tabulation Area (NTA) from 2010 to 2020'\n",
    "axs[0].set_title(label, fontsize=12, pad=10, x=.4)\n",
    "axs[0].set_xlabel('Count', fontsize=12)\n",
    "axs[0].set_ylabel('')\n",
    "\n",
    "# second plot\n",
    "data = nta_gdf_counts.sort_values(by='count_sq_mi', ascending=False).head(10)\n",
    "\n",
    "sns.barplot(\n",
    "    data=data,\n",
    "    y='ntaname_boro',\n",
    "    x='count_sq_mi',\n",
    "    color='#1f77b4',\n",
    "    ax=axs[1]\n",
    ")\n",
    "\n",
    "label = 'Count of NYC 311 Street Flooding Complaints Per Square Mile\\n\\\n",
    "by Neighborhood Tabulation Area (NTA) from 2010 to 2020'\n",
    "axs[1].set_title(label, fontsize=12, pad=10, x=.38)\n",
    "axs[1].set_xlabel('Count per Square Mile', fontsize=12)\n",
    "axs[1].set_ylabel('')\n",
    "\n",
    "fig.tight_layout()\n",
    "plt.savefig('figures/counts-nta.png', dpi=250, bbox_inches='tight')"
   ],
   "outputs": [],
   "execution_count": null
  },
  {
   "cell_type": "markdown",
   "metadata": {},
   "source": [
    "**Figure xx:**"
   ]
  },
  {
   "cell_type": "code",
   "metadata": {},
   "source": [
    "fig, ax = plt.subplots(figsize=(8, 8))\n",
    "\n",
    "divider = make_axes_locatable(ax)\n",
    "cax = divider.append_axes(\"right\", size=\"5%\", pad=0.1)\n",
    "cmap = plt.cm.Blues\n",
    "norm = mpl.colors.BoundaryNorm([0, 50, 100, 200, 300, 400], cmap.N)\n",
    "\n",
    "nta_gdf_counts.plot(\n",
    "    column='count_sq_mi', \n",
    "    cmap=cmap,\n",
    "    ax=ax, \n",
    "    legend=True,\n",
    "    cax=cax,\n",
    "    norm=norm,\n",
    ")\n",
    "\n",
    "nta_gdf.plot(\n",
    "    facecolor=\"none\", \n",
    "    edgecolor=\"black\", \n",
    "    linewidth=.2,\n",
    "    ax=ax,\n",
    "    zorder=1\n",
    ")\n",
    "\n",
    "borough_gdf.plot(\n",
    "    facecolor=\"none\", \n",
    "    edgecolor=\"black\", \n",
    "    linewidth=.6,\n",
    "    ax=ax,\n",
    "    zorder=2\n",
    ")\n",
    "\n",
    "title = 'Count of NYC 311 Street Flooding Complaints per Square Mile\\n\\\n",
    "by Neighborhood Tabulation Area (NTA) from 2010 to 2020'\n",
    "ax.set_title(title, fontsize=13, pad=10)\n",
    "\n",
    "ax.axis('off')\n",
    "plt.tight_layout()\n",
    "plt.savefig('figures/cover-photo.png', bbox_inches='tight', dpi=250)"
   ],
   "outputs": [],
   "execution_count": null
  },
  {
   "cell_type": "markdown",
   "metadata": {},
   "source": [
    "**Figure xx:**"
   ]
  },
  {
   "cell_type": "markdown",
   "metadata": {},
   "source": [
    "## Counts by Neighborhood Tabulation Areas (NTA) and Year"
   ]
  },
  {
   "cell_type": "code",
   "metadata": {},
   "source": [
    "year_nta = (\n",
    "    gdf_merged\n",
    "    .groupby(by=['year', 'ntaname_boro'])['unique_key']\n",
    "    .count()\n",
    "    .reset_index()\n",
    "    .rename(columns={\"unique_key\": \"count\"})\n",
    ")\n",
    "\n",
    "year_nta = nta_gdf.merge(\n",
    "    year_nta, \n",
    "    on='ntaname_boro',\n",
    "    how='left'\n",
    ")\n",
    "\n",
    "year_nta = (\n",
    "    year_nta\n",
    "    .loc[~year_nta['year'].isnull()]\n",
    "    .astype({'year':'int'})\n",
    "    .reset_index(drop=True)\n",
    ")\n",
    "\n",
    "year_nta['count'] = year_nta['count'].fillna(0).astype(int)\n",
    "year_nta['count_sq_mi'] = (year_nta['count'] / (year_nta['shape_area_sq_mi']).replace(0, np.nan)).round(2)\n",
    "\n",
    "print('shape of data: {}\\n'.format(year_nta.shape))\n",
    "year_nta.head()"
   ],
   "outputs": [],
   "execution_count": null
  },
  {
   "cell_type": "code",
   "metadata": {},
   "source": [
    "fig, axes = plt.subplots(3, 4, figsize=(10, 10))\n",
    "\n",
    "for ax, year in zip(axes.flat, year_nta['year'].unique()):\n",
    "    \n",
    "    divider = make_axes_locatable(ax)\n",
    "    cax = divider.append_axes(\"right\", size=\"5%\", pad=0.1)\n",
    "    \n",
    "    (year_nta\n",
    "     .loc[year_nta['year'] == year]\n",
    "     .plot(\n",
    "         column='count_sq_mi', \n",
    "         cmap='Blues',\n",
    "         legend=True,\n",
    "         ax=ax, \n",
    "         cax=cax)\n",
    "    )\n",
    "    \n",
    "    nta_gdf.plot(\n",
    "        facecolor=\"none\",\n",
    "        edgecolor=\"black\",\n",
    "        linewidth=.09,\n",
    "        ax=ax\n",
    "    )\n",
    "    \n",
    "    ax.set_title(str(year), fontsize=12)\n",
    "    ax.axis('off')\n",
    "\n",
    "axes[2,2].set_axis_off()\n",
    "axes[2,3].set_axis_off()\n",
    "\n",
    "label = 'Count of NYC 311 Street Flooding Complaints Per Square Mile\\n\\\n",
    "by Neighborhood Tabulation Area (NTA) and Year'\n",
    "fig.suptitle(label, y=.96, fontsize=13) \n",
    "\n",
    "fig.tight_layout()   "
   ],
   "outputs": [],
   "execution_count": null
  },
  {
   "cell_type": "markdown",
   "metadata": {},
   "source": [
    "**Figure xx:**"
   ]
  },
  {
   "cell_type": "markdown",
   "metadata": {},
   "source": [
    "\n",
    "## Timedelta of Complaints Response Time"
   ]
  },
  {
   "cell_type": "code",
   "metadata": {},
   "source": [
    "# calculate complaint close out duration\n",
    "gdf_merged['complaint_duration'] = gdf_merged['closed_date'] - gdf_merged['created_date']\n",
    "\n",
    "gdf_merged.loc[:, ['created_date', 'closed_date', 'complaint_duration']].head(10)"
   ],
   "outputs": [],
   "execution_count": null
  },
  {
   "cell_type": "code",
   "metadata": {},
   "source": [
    "# retrieve dt values\n",
    "gdf_merged['complaint_duration_days'] = gdf_merged['complaint_duration'].dt.days\n",
    "gdf_merged['complaint_duration_seconds'] = gdf_merged['complaint_duration'].dt.seconds\n",
    "gdf_merged['complaint_duration_hours'] = gdf_merged['complaint_duration'] / pd.Timedelta(hours=1)\n",
    "\n",
    "# examine distribution of complaint duration\n",
    "cols = ['complaint_duration', 'complaint_duration_days', 'complaint_duration_hours']\n",
    "gdf_merged.loc[:, cols].describe()"
   ],
   "outputs": [],
   "execution_count": null
  },
  {
   "cell_type": "code",
   "metadata": {},
   "source": [
    "# calculate median complaint close out duration \n",
    "grouped_gdf = (\n",
    "    gdf_merged\n",
    "    .groupby('ntaname_boro')['complaint_duration_hours']\n",
    "    .median()\n",
    "    .reset_index()\n",
    ")\n",
    "\n",
    "# merge to geodataframe to plot\n",
    "nta_shape_time = nta_gdf.merge(\n",
    "    grouped_gdf, \n",
    "    left_on='ntaname_boro', \n",
    "    right_on='ntaname_boro'\n",
    ")\n",
    "\n",
    "nta_shape_time.head()"
   ],
   "outputs": [],
   "execution_count": null
  },
  {
   "cell_type": "code",
   "metadata": {},
   "source": [
    "# examine value distributions\n",
    "nta_shape_time.loc[:, ['complaint_duration_hours']].describe()"
   ],
   "outputs": [],
   "execution_count": null
  },
  {
   "cell_type": "code",
   "metadata": {},
   "source": [
    "fig, ax = plt.subplots(figsize=(8, 8))\n",
    "\n",
    "divider = make_axes_locatable(ax)\n",
    "cax = divider.append_axes(\"right\", size=\"5%\", pad=0.1)\n",
    "cmap = plt.cm.Blues\n",
    "norm = mpl.colors.BoundaryNorm([0, 6, 12, 18, 24, 36], cmap.N)\n",
    "\n",
    "nta_shape_time.plot(\n",
    "    column='complaint_duration_hours', \n",
    "    cmap=cmap,\n",
    "    ax=ax, \n",
    "    legend=True,\n",
    "    cax=cax,\n",
    "    norm=norm,\n",
    ")\n",
    "\n",
    "nta_gdf.plot(\n",
    "    facecolor=\"none\", \n",
    "    edgecolor=\"black\", \n",
    "    linewidth=.2,\n",
    "    ax=ax\n",
    ")\n",
    "\n",
    "borough_gdf.plot(\n",
    "    facecolor=\"none\", \n",
    "    edgecolor=\"black\", \n",
    "    linewidth=.6,\n",
    "    ax=ax\n",
    ")\n",
    "\n",
    "title = 'Median Response Hours for NYC 311 Street Flooding Complaints by NTA'\n",
    "ax.set_title(title, fontsize=13, pad=10)\n",
    "ax.axis('off')\n",
    "\n",
    "plt.tight_layout()"
   ],
   "outputs": [],
   "execution_count": null
  },
  {
   "cell_type": "markdown",
   "metadata": {},
   "source": [
    "**Figure xx:**"
   ]
  },
  {
   "cell_type": "code",
   "metadata": {},
   "source": [],
   "outputs": [],
   "execution_count": null
  }
 ],
 "metadata": {
  "kernelspec": {
   "display_name": "Python 3 (ipykernel)",
   "language": "python",
   "name": "python3"
  },
  "language_info": {
   "codemirror_mode": {
    "name": "ipython",
    "version": 3
   },
   "file_extension": ".py",
   "mimetype": "text/x-python",
   "name": "python",
   "nbconvert_exporter": "python",
   "pygments_lexer": "ipython3",
   "version": "3.8.13"
  },
  "toc": {
   "base_numbering": 1,
   "nav_menu": {},
   "number_sections": true,
   "sideBar": true,
   "skip_h1_title": true,
   "title_cell": "Table of Contents",
   "title_sidebar": "Contents",
   "toc_cell": false,
   "toc_position": {},
   "toc_section_display": true,
   "toc_window_display": true
  }
 },
 "nbformat": 4,
 "nbformat_minor": 4
}
